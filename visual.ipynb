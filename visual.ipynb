{
 "cells": [
  {
   "cell_type": "code",
   "execution_count": 8,
   "metadata": {},
   "outputs": [],
   "source": [
    "%gui qt"
   ]
  },
  {
   "cell_type": "code",
   "execution_count": 9,
   "metadata": {},
   "outputs": [],
   "source": [
    "from mayavi import mlab"
   ]
  },
  {
   "cell_type": "code",
   "execution_count": 10,
   "metadata": {},
   "outputs": [],
   "source": [
    "import numpy as np"
   ]
  },
  {
   "cell_type": "code",
   "execution_count": 11,
   "metadata": {},
   "outputs": [
    {
     "data": {
      "text/plain": [
       "<mayavi.modules.iso_surface.IsoSurface at 0x1fcab6ba130>"
      ]
     },
     "execution_count": 11,
     "metadata": {},
     "output_type": "execute_result"
    }
   ],
   "source": [
    "mlab.test_contour3d()"
   ]
  },
  {
   "cell_type": "code",
   "execution_count": 12,
   "metadata": {},
   "outputs": [],
   "source": [
    "mlab.clf()"
   ]
  },
  {
   "cell_type": "code",
   "execution_count": 6,
   "metadata": {},
   "outputs": [],
   "source": [
    "position_data = [\n",
    "    [1,1,1],\n",
    "    [2,2,2],\n",
    "    [3,3,3],\n",
    "    [4,4,4],\n",
    "]\n"
   ]
  },
  {
   "cell_type": "code",
   "execution_count": 48,
   "metadata": {},
   "outputs": [
    {
     "name": "stdout",
     "output_type": "stream",
     "text": [
      "Time taken to compute:  0.22337990000005448\n"
     ]
    }
   ],
   "source": [
    "\n",
    "from object import object, R, M\n",
    "import numpy as np\n",
    "import time\n",
    "if __name__ == \"__main__\":\n",
    "\n",
    "    '''\n",
    "    options\n",
    "    Display while simulation being run ? ---- can show the difference \n",
    "    in simulation speeds of differetn optimizations\n",
    "    Display after simulation done for limited time.. Can Either do it in \n",
    "    a fixed simulation time, or real time\n",
    "\n",
    "    scale ?   \n",
    "    No of objects ?\n",
    "    Size of interval simulations ?\n",
    "\n",
    "    What to simulate ? Simulate the questions for which answers are solved by \n",
    "    simulations... :) \n",
    "\n",
    "\n",
    "    '''\n",
    "    x, y, z = 2*R, 2*R, 2*R\n",
    "    vx, vy, vz = 0, 0, 0\n",
    "\n",
    "    ob = object(x=x, y=y, z=z, vx=vx, vy=vy, vz=vz)\n",
    "    earth = object(m=M)\n",
    "\n",
    "    T = 365*24*3600    # The time to simulate in seconds ?\n",
    "    N = int(T/600)       # No of frames\n",
    "\n",
    "    dt = T/N\n",
    "\n",
    "    frames = np.zeros((N, 3))\n",
    "\n",
    "    t1 = time.perf_counter()\n",
    "    \n",
    "    mlab.clf()\n",
    "\n",
    "    earth_graphic = mlab.points3d(earth.x/1e6, earth.y/1e6, earth.z/1e6)\n",
    "    satellite_graphic = mlab.points3d(ob.x/1e6, ob.y/1e6, ob.z/1e6)\n",
    "\n",
    "    @mlab.animate(delay=100, ui = False)\n",
    "    def anim():\n",
    "        # print(\"DONE\")\n",
    "        for i in range(N):\n",
    "            ob.update_due_ob(dt, earth)\n",
    "            frames[i, :] = ob.give_pos()\n",
    "            satellite_graphic.mlab_source.x = ((ob.x+earth.x)/2)/1e6\n",
    "            satellite_graphic.mlab_source.y = ((ob.y+earth.y)/2)/1e6\n",
    "            satellite_graphic.mlab_source.z = ((ob.z + earth.z))/2/1e6\n",
    "            yield\n",
    "\n",
    "    anim()\n",
    "    t2 = time.perf_counter()\n",
    "\n",
    "    print(\"Time taken to compute: \", t2-t1)\n",
    "\n"
   ]
  },
  {
   "cell_type": "code",
   "execution_count": 28,
   "metadata": {},
   "outputs": [
    {
     "data": {
      "text/plain": [
       "(12756000.0, 12756000.0, 12.756)"
      ]
     },
     "execution_count": 28,
     "metadata": {},
     "output_type": "execute_result"
    }
   ],
   "source": [
    "satellite_graphic = mlab.points3d(ob.x/1e6, ob.y/1e6, ob.z/1e6)\n",
    "# satellite_graphic = mlab.points3d(10000000, 10000000, 10000000)\n",
    "\"\"\" \n",
    "Scaling with 1e6 \n",
    "\"\"\"\n",
    "ob.x, ob.y, ob.z/1e6"
   ]
  },
  {
   "cell_type": "code",
   "execution_count": null,
   "metadata": {},
   "outputs": [],
   "source": []
  },
  {
   "cell_type": "code",
   "execution_count": null,
   "metadata": {},
   "outputs": [],
   "source": [
    "# s = mlab.surf(x, y, np.asarray(x*0.1, 'd'))\n",
    "\n",
    "mlab.clf()\n",
    "# x,y = np.mgrid[0:3:1, 0:3:1 ]\n",
    "x, y, z = [0,0,0]\n",
    "s = mlab.points3d(x,y,z)\n",
    "mlab.points3d(x+10,y+10,z+10)\n",
    "\n",
    "\n",
    "@mlab.animate(delay=10, ui=False)\n",
    "def anim():\n",
    "    for t in np.linspace(0,15, num = 100):\n",
    "        # s.mlab_source.scalars = np.asarray(x*0.1*(i+1), 'd')\n",
    "        s.mlab_source.x = t\n",
    "        s.mlab_source.y = t\n",
    "        s.mlab_source.z = t\n",
    "        yield\n",
    "\n",
    "anim()"
   ]
  },
  {
   "cell_type": "code",
   "execution_count": null,
   "metadata": {},
   "outputs": [],
   "source": []
  }
 ],
 "metadata": {
  "kernelspec": {
   "display_name": "Python 3",
   "language": "python",
   "name": "python3"
  },
  "language_info": {
   "codemirror_mode": {
    "name": "ipython",
    "version": 3
   },
   "file_extension": ".py",
   "mimetype": "text/x-python",
   "name": "python",
   "nbconvert_exporter": "python",
   "pygments_lexer": "ipython3",
   "version": "3.9.6"
  },
  "orig_nbformat": 4,
  "vscode": {
   "interpreter": {
    "hash": "5f1142a4e52c1e19349e93407b73b670c80b64fa5be6ed581dc7977b15e4e819"
   }
  }
 },
 "nbformat": 4,
 "nbformat_minor": 2
}
