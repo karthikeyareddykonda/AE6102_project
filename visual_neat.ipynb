{
 "cells": [
  {
   "cell_type": "code",
   "execution_count": 20,
   "metadata": {},
   "outputs": [],
   "source": [
    "%gui qt\n",
    "from mayavi import mlab\n",
    "import numpy as np\n",
    "import time\n"
   ]
  },
  {
   "cell_type": "code",
   "execution_count": 21,
   "metadata": {},
   "outputs": [],
   "source": [
    "import os"
   ]
  },
  {
   "cell_type": "code",
   "execution_count": 22,
   "metadata": {},
   "outputs": [],
   "source": [
    "# for testing\n",
    "# mlab.test_contour3d_anim()"
   ]
  },
  {
   "cell_type": "code",
   "execution_count": 23,
   "metadata": {},
   "outputs": [],
   "source": [
    "DATA_SET = \"data_2\""
   ]
  },
  {
   "cell_type": "code",
   "execution_count": 24,
   "metadata": {},
   "outputs": [
    {
     "name": "stdout",
     "output_type": "stream",
     "text": [
      "(525600, 3)\n",
      "[[ 1.9986187   0.07433178  0.        ]\n",
      " [ 1.99585704  0.14861223  0.        ]\n",
      " [ 1.9917198   0.22279025  0.        ]\n",
      " [ 1.98621549  0.29681535  0.        ]\n",
      " [ 1.97935627  0.37063798  0.        ]\n",
      " [ 1.97115783  0.44420984  0.        ]\n",
      " [ 1.96163921  0.51748419  0.        ]\n",
      " [ 1.95082256  0.59041611  0.        ]\n",
      " [ 1.93873293  0.66296277  0.        ]\n",
      " [ 1.92539801  0.73508359  0.        ]\n",
      " [ 1.91084783  0.80674045  0.        ]\n",
      " [ 1.89511449  0.87789779  0.        ]\n",
      " [ 1.87823186  0.94852273  0.        ]\n",
      " [ 1.86023526  1.01858511  0.        ]\n",
      " [ 1.84116124  1.08805753  0.        ]\n",
      " [ 1.82104722  1.15691536  0.        ]\n",
      " [ 1.79993127  1.22513665  0.        ]\n",
      " [ 1.77785185  1.29270215  0.        ]\n",
      " [ 1.75484756  1.35959517  0.        ]\n",
      " [ 1.73095697  1.42580152  0.        ]\n",
      " [ 1.70621837  1.49130935  0.        ]\n",
      " [ 1.68066966  1.55610911  0.        ]\n",
      " [ 1.65434813  1.62019332  0.        ]\n",
      " [ 1.6272904   1.68355654  0.        ]\n",
      " [ 1.59953226  1.74619512  0.        ]\n",
      " [ 1.57110859  1.80810716  0.        ]\n",
      " [ 1.5420533   1.86929229  0.        ]\n",
      " [ 1.51239926  1.92975161  0.        ]\n",
      " [ 1.48217824  1.9894875   0.        ]\n",
      " [ 1.45142091  2.04850351  0.        ]\n",
      " [ 1.42015679  2.10680425  0.        ]\n",
      " [ 1.38841428  2.16439529  0.        ]\n",
      " [ 1.35622059  2.221283    0.        ]\n",
      " [ 1.32360183  2.2774745   0.        ]\n",
      " [ 1.29058296  2.33297755  0.        ]\n",
      " [ 1.25718784  2.38780045  0.        ]\n",
      " [ 1.22343924  2.44195198  0.        ]\n",
      " [ 1.18935887  2.49544131  0.        ]\n",
      " [ 1.15496743  2.54827797  0.        ]\n",
      " [ 1.1202846   2.60047172  0.        ]\n",
      " [ 1.08532911  2.65203255  0.        ]\n",
      " [ 1.05011877  2.70297064  0.        ]\n",
      " [ 1.01467047  2.75329624  0.        ]\n",
      " [ 0.97900027  2.80301973  0.        ]\n",
      " [ 0.94312341  2.8521515   0.        ]\n",
      " [ 0.90705433  2.90070196  0.        ]\n",
      " [ 0.87080672  2.94868151  0.        ]\n",
      " [ 0.83439356  2.9961005   0.        ]\n",
      " [ 0.79782716  3.04296923  0.        ]\n",
      " [ 0.76111917  3.08929789  0.        ]\n",
      " [ 0.7242806   3.13509659  0.        ]\n",
      " [ 0.68732191  3.18037533  0.        ]\n",
      " [ 0.65025299  3.22514396  0.        ]\n",
      " [ 0.61308317  3.26941223  0.        ]\n",
      " [ 0.57582133  3.3131897   0.        ]\n",
      " [ 0.53847582  3.35648581  0.        ]\n",
      " [ 0.50105458  3.39930983  0.        ]\n",
      " [ 0.46356509  3.44167087  0.        ]\n",
      " [ 0.42601445  3.48357787  0.        ]\n",
      " [ 0.38840935  3.52503959  0.        ]\n",
      " [ 0.35075614  3.56606463  0.        ]\n",
      " [ 0.31306081  3.60666142  0.        ]\n",
      " [ 0.27532902  3.64683822  0.        ]\n",
      " [ 0.23756613  3.68660309  0.        ]\n",
      " [ 0.19977721  3.72596395  0.        ]\n",
      " [ 0.16196704  3.76492852  0.        ]\n",
      " [ 0.12414014  3.80350439  0.        ]\n",
      " [ 0.0863008   3.84169893  0.        ]\n",
      " [ 0.04845306  3.87951939  0.        ]\n",
      " [ 0.01060073  3.91697283  0.        ]\n",
      " [-0.02725257  3.95406615  0.        ]\n",
      " [-0.06510343  3.9908061   0.        ]\n",
      " [-0.10294864  4.02719926  0.        ]\n",
      " [-0.14078515  4.06325209  0.        ]\n",
      " [-0.17861008  4.09897086  0.        ]\n",
      " [-0.21642073  4.13436171  0.        ]\n",
      " [-0.25421452  4.16943064  0.        ]\n",
      " [-0.29198905  4.2041835   0.        ]\n",
      " [-0.32974201  4.23862602  0.        ]\n",
      " [-0.36747127  4.27276376  0.        ]\n",
      " [-0.40517479  4.30660219  0.        ]\n",
      " [-0.44285065  4.34014663  0.        ]\n",
      " [-0.48049704  4.37340227  0.        ]\n",
      " [-0.51811225  4.40637419  0.        ]\n",
      " [-0.55569469  4.43906734  0.        ]\n",
      " [-0.59324284  4.47148656  0.        ]\n",
      " [-0.63075527  4.50363658  0.        ]\n",
      " [-0.66823065  4.53552201  0.        ]\n",
      " [-0.70566771  4.56714736  0.        ]\n",
      " [-0.74306526  4.59851704  0.        ]\n",
      " [-0.7804222   4.62963534  0.        ]\n",
      " [-0.81773746  4.66050647  0.        ]\n",
      " [-0.85501008  4.69113453  0.        ]\n",
      " [-0.89223913  4.72152354  0.        ]\n",
      " [-0.92942374  4.7516774   0.        ]\n",
      " [-0.96656311  4.78159995  0.        ]\n",
      " [-1.00365648  4.81129493  0.        ]\n",
      " [-1.04070314  4.840766    0.        ]\n",
      " [-1.07770243  4.87001673  0.        ]\n",
      " [-1.11465373  4.89905062  0.        ]]\n"
     ]
    }
   ],
   "source": [
    "# DATA_SCALE_FACTOR = radius_earth\n",
    "DATA_SCALE_FACTOR = 6.378e6\n",
    "\n",
    "# Lets divide everything by R, to get intution\n",
    "data = np.load(f\"data/{DATA_SET}.npy\")\n",
    "# data = np.load(\"data/data_0.npy\")\n",
    "# data = np.load(\"data/data_0.npy\")\n",
    "data = data/DATA_SCALE_FACTOR\n",
    "\n",
    "print(data.shape)\n",
    "print(data[:100])"
   ]
  },
  {
   "cell_type": "code",
   "execution_count": 25,
   "metadata": {},
   "outputs": [
    {
     "data": {
      "text/plain": [
       "<mayavi.modules.glyph.Glyph at 0x2211153b0e0>"
      ]
     },
     "execution_count": 25,
     "metadata": {},
     "output_type": "execute_result"
    }
   ],
   "source": [
    "# Frame of reference setup\n",
    "frame_x, frame_y, frame_z = np.mgrid[-10: 10: 2j,-10: 10: 2j,-10: 10: 2j]\n",
    "\n",
    "mlab.clf()\n",
    "\n",
    "# Uncomment the below line to make endpoints invisible\n",
    "# mlab.points3d(frame_x, frame_y, frame_z, opacity=0)\n",
    "mlab.points3d(frame_x, frame_y, frame_z, opacity=0.0)\n"
   ]
  },
  {
   "cell_type": "code",
   "execution_count": 26,
   "metadata": {},
   "outputs": [],
   "source": [
    "\n",
    "VISUAL_SCALE_FACTOR = 3"
   ]
  },
  {
   "cell_type": "code",
   "execution_count": 27,
   "metadata": {},
   "outputs": [
    {
     "name": "stdout",
     "output_type": "stream",
     "text": [
      "[5.99585609 0.22299535 0.        ]\n"
     ]
    }
   ],
   "source": [
    "earth_obj = mlab.points3d(0,0,0, color = (1,0,0))\n",
    "\n",
    "sat_init_pos = data[0] * VISUAL_SCALE_FACTOR\n",
    "\n",
    "sat_obj = mlab.points3d(\n",
    "        sat_init_pos[0],\n",
    "        sat_init_pos[1],\n",
    "        sat_init_pos[2],\n",
    "        color = (0.5, 0.5, 0.5)\n",
    "    )\n",
    "    \n",
    "\n",
    "print(sat_init_pos)\n",
    "\n",
    "sat_traj = mlab.plot3d(\n",
    "    sat_init_pos[0],\n",
    "    sat_init_pos[1],\n",
    "    sat_init_pos[2],\n",
    ")\n",
    "\n"
   ]
  },
  {
   "cell_type": "code",
   "execution_count": 28,
   "metadata": {},
   "outputs": [],
   "source": [
    "# Lets once try mlab animate decorator...\n",
    "# If it doesn't work, do with save_fig and delay and all\n",
    "# @mlab.animate\n",
    "\n",
    "# Not using decorator here, as I need inputs to this function...\n",
    "\n",
    "def anim(moving_obj, data, num_frames = 50, obj_traj = None, pics_folder_name = None):\n",
    "\n",
    "    # decorator not working... Animation stops in between\n",
    "    # Now again,it doesn't stop\n",
    "\n",
    "    delay = 100\n",
    "\n",
    "    # @mlab.animate(delay = 100)\n",
    "\n",
    "    if not os.path.exists(pics_folder_name):\n",
    "                os.makedirs(pics_folder_name)\n",
    "    if pics_folder_name is None:\n",
    "         pics_folder_name = \"pics\"\n",
    "\n",
    "    for i in range(num_frames):\n",
    "        moving_obj.mlab_source.x = data[i][0] * VISUAL_SCALE_FACTOR  \n",
    "        moving_obj.mlab_source.y = data[i][1] * VISUAL_SCALE_FACTOR \n",
    "        moving_obj.mlab_source.z = data[i][2] * VISUAL_SCALE_FACTOR \n",
    "\n",
    "        # Trajectory is not working, bodies just dont animate ...\n",
    "\n",
    "        if obj_traj is not None:\n",
    "            obj_traj.mlab_source.reset(\n",
    "                x = data[:i+1, 0] * VISUAL_SCALE_FACTOR,\n",
    "                y = data[:i+1, 1] * VISUAL_SCALE_FACTOR,\n",
    "                z = data[:i+1, 2] * VISUAL_SCALE_FACTOR\n",
    "            )\n",
    "\n",
    "        # Uncomment below line, if using decorator\n",
    "        # yield\n",
    "        # uncomment below lines, if not using decorator\n",
    "        mlab.process_ui_events()\n",
    "        # This savefig is a cruel trick to re-create the image or smthing like that\n",
    "        mlab.savefig('./{}/anim_{:03}.png'.format(pics_folder_name, i))\n",
    "\n",
    "        # time.sleep(delay/1000)\n",
    "\n"
   ]
  },
  {
   "cell_type": "code",
   "execution_count": 29,
   "metadata": {},
   "outputs": [],
   "source": [
    "num_frames_interest = 400\n",
    "\n",
    "\n",
    "anim(sat_obj, data, \n",
    "     num_frames = num_frames_interest, \n",
    "     obj_traj = sat_traj,\n",
    "     pics_folder_name =  f\"pics/{DATA_SET}/\"\n",
    "       )\n",
    "\n",
    "# Be careful to not cahnge window size during images generation,\n",
    "# this varied window size will lead to bad mp4 video; wil not include all images! \n"
   ]
  },
  {
   "attachments": {},
   "cell_type": "markdown",
   "metadata": {},
   "source": [
    "# Obtained good animation results! Creates a folder with pic names for the same"
   ]
  }
 ],
 "metadata": {
  "kernelspec": {
   "display_name": "Python 3",
   "language": "python",
   "name": "python3"
  },
  "language_info": {
   "codemirror_mode": {
    "name": "ipython",
    "version": 3
   },
   "file_extension": ".py",
   "mimetype": "text/x-python",
   "name": "python",
   "nbconvert_exporter": "python",
   "pygments_lexer": "ipython3",
   "version": "3.9.6"
  },
  "orig_nbformat": 4
 },
 "nbformat": 4,
 "nbformat_minor": 2
}
