{
 "cells": [
  {
   "cell_type": "code",
   "execution_count": 1,
   "metadata": {},
   "outputs": [],
   "source": [
    "%gui qt\n",
    "from mayavi import mlab\n",
    "import numpy as np\n",
    "import time"
   ]
  },
  {
   "cell_type": "code",
   "execution_count": 3,
   "metadata": {},
   "outputs": [
    {
     "data": {
      "text/plain": [
       "<mayavi.tools.animator.Animator at 0x192654adea0>"
      ]
     },
     "execution_count": 3,
     "metadata": {},
     "output_type": "execute_result"
    }
   ],
   "source": [
    "# for testing\n",
    "mlab.test_contour3d_anim()"
   ]
  },
  {
   "cell_type": "code",
   "execution_count": 104,
   "metadata": {},
   "outputs": [
    {
     "name": "stdout",
     "output_type": "stream",
     "text": [
      "(210240, 3)\n",
      "[[ 1.99694772  1.99694772  0.09407338]\n",
      " [ 1.99083892  1.99083892  0.18800277]\n",
      " [ 1.98167016  1.98167016  0.28164319]\n",
      " [ 1.96943892  1.96943892  0.37484836]\n",
      " [ 1.95414356  1.95414356  0.46747033]\n",
      " [ 1.93578347  1.93578347  0.55935916]\n",
      " [ 1.91435911  1.91435911  0.65036254]\n",
      " [ 1.88987216  1.88987216  0.74032547]\n",
      " [ 1.86232563  1.86232563  0.82908987]\n",
      " [ 1.83172406  1.83172406  0.91649419]\n",
      " [ 1.79807364  1.79807364  1.00237303]\n",
      " [ 1.76138249  1.76138249  1.08655675]\n",
      " [ 1.72166087  1.72166087  1.16887105]\n",
      " [ 1.6789215   1.6789215   1.24913653]\n",
      " [ 1.63317985  1.63317985  1.32716828]\n",
      " [ 1.58445454  1.58445454  1.40277543]\n",
      " [ 1.53276775  1.53276775  1.47576068]\n",
      " [ 1.47814574  1.47814574  1.54591986]\n",
      " [ 1.42061932  1.42061932  1.61304147]\n",
      " [ 1.36022458  1.36022458  1.67690625]\n",
      " [ 1.2970035   1.2970035   1.73728666]\n",
      " [ 1.23100479  1.23100479  1.79394656]\n",
      " [ 1.1622848   1.1622848   1.84664071]\n",
      " [ 1.0909085   1.0909085   1.89511452]\n",
      " [ 1.01695066  1.01695066  1.93910371]\n",
      " [ 0.94049711  0.94049711  1.97833412]\n",
      " [ 0.86164619  0.86164619  2.01252168]\n",
      " [ 0.78051037  0.78051037  2.04137245]\n",
      " [ 0.69721801  0.69721801  2.06458293]\n",
      " [ 0.61191537  0.61191537  2.08184063]\n",
      " [ 0.52476879  0.52476879  2.09282492]\n",
      " [ 0.43596705  0.43596705  2.09720832]\n",
      " [ 0.34572401  0.34572401  2.09465836]\n",
      " [ 0.25428131  0.25428131  2.08483992]\n",
      " [ 0.16191129  0.16191129  2.06741848]\n",
      " [ 0.06892     0.06892     2.04206418]\n",
      " [-0.02434982 -0.02434982  2.00845695]\n",
      " [-0.1175159  -0.1175159   1.9662929 ]\n",
      " [-0.21015385 -0.21015385  1.91529203]\n",
      " [-0.30179511 -0.30179511  1.85520755]\n",
      " [-0.3919257  -0.3919257   1.78583667]\n",
      " [-0.47998617 -0.47998617  1.70703311]\n",
      " [-0.56537303 -0.56537303  1.61872107]\n",
      " [-0.64744226 -0.64744226  1.52091032]\n",
      " [-0.72551529 -0.72551529  1.41371206]\n",
      " [-0.79888783 -0.79888783  1.29735462]\n",
      " [-0.86684197 -0.86684197  1.17219795]\n",
      " [-0.9286615  -0.9286615   1.03874567]\n",
      " [-0.98365037 -0.98365037  0.89765304]\n",
      " [-1.03115366 -1.03115366  0.74972926]\n",
      " [-1.07057993 -1.07057993  0.59593285]\n",
      " [-1.10142368 -1.10142368  0.43735903]\n",
      " [-1.12328611 -1.12328611  0.27521886]\n",
      " [-1.13589223 -1.13589223  0.11081078]\n",
      " [-1.1391029  -1.1391029  -0.05451387]\n",
      " [-1.13292039 -1.13292039 -0.21938898]\n",
      " [-1.11748698 -1.11748698 -0.38247267]\n",
      " [-1.09307682 -1.09307682 -0.54248397]\n",
      " [-1.06008197 -1.06008197 -0.69823476]\n",
      " [-1.01899405 -1.01899405 -0.84865495]\n",
      " [-0.97038327 -0.97038327 -0.99280984]\n",
      " [-0.91487668 -0.91487668 -1.12990955]\n",
      " [-0.85313696 -0.85313696 -1.2593111 ]\n",
      " [-0.78584325 -0.78584325 -1.38051443]\n",
      " [-0.71367448 -0.71367448 -1.49315359]\n",
      " [-0.63729582 -0.63729582 -1.59698479]\n",
      " [-0.55734815 -0.55734815 -1.69187251]\n",
      " [-0.47444047 -0.47444047 -1.77777488]\n",
      " [-0.38914482 -0.38914482 -1.8547293 ]\n",
      " [-0.30199338 -0.30199338 -1.92283868]\n",
      " [-0.21347726 -0.21347726 -1.982259  ]\n",
      " [-0.12404669 -0.12404669 -2.03318809]\n",
      " [-0.0341121  -0.0341121  -2.075856  ]\n",
      " [ 0.05595407  0.05595407 -2.11051667]\n",
      " [ 0.14581514  0.14581514 -2.13744098]\n",
      " [ 0.23516768  0.23516768 -2.15691102]\n",
      " [ 0.32373895  0.32373895 -2.16921537]\n",
      " [ 0.41128427  0.41128427 -2.17464536]\n",
      " [ 0.49758452  0.49758452 -2.17349209]\n",
      " [ 0.5824437   0.5824437  -2.16604413]\n",
      " [ 0.66568669  0.66568669 -2.15258571]\n",
      " [ 0.74715711  0.74715711 -2.13339546]\n",
      " [ 0.82671542  0.82671542 -2.10874549]\n",
      " [ 0.90423715  0.90423715 -2.07890068]\n",
      " [ 0.97961126  0.97961126 -2.04411836]\n",
      " [ 1.05273872  1.05273872 -2.00464805]\n",
      " [ 1.12353122  1.12353122 -1.96073143]\n",
      " [ 1.19190994  1.19190994 -1.91260243]\n",
      " [ 1.25780457  1.25780457 -1.86048731]\n",
      " [ 1.32115232  1.32115232 -1.80460496]\n",
      " [ 1.3818971   1.3818971  -1.74516714]\n",
      " [ 1.43998877  1.43998877 -1.68237876]\n",
      " [ 1.49538249  1.49538249 -1.61643828]\n",
      " [ 1.54803808  1.54803808 -1.54753803]\n",
      " [ 1.59791956  1.59791956 -1.47586456]\n",
      " [ 1.64499463  1.64499463 -1.40159904]\n",
      " [ 1.68923428  1.68923428 -1.32491762]\n",
      " [ 1.73061239  1.73061239 -1.24599182]\n",
      " [ 1.76910545  1.76910545 -1.16498887]\n",
      " [ 1.80469225  1.80469225 -1.08207209]]\n"
     ]
    }
   ],
   "source": [
    "# DATA_SCALE_FACTOR = radius_earth\n",
    "DATA_SCALE_FACTOR = 6.378e6\n",
    "\n",
    "# Lets divide everything by R, to get intution\n",
    "data = np.load(\"data_visual.npy\")\n",
    "data = data/DATA_SCALE_FACTOR\n",
    "\n",
    "print(data.shape)\n",
    "print(data[:100])"
   ]
  },
  {
   "cell_type": "code",
   "execution_count": 105,
   "metadata": {},
   "outputs": [],
   "source": [
    "# Frame of reference setup\n",
    "frame_x, frame_y, frame_z = np.mgrid[-10: 10: 2j,-10: 10: 2j,-10: 10: 2j]\n",
    "\n",
    "mlab.clf()\n",
    "\n",
    "# Uncomment the below line to make endpoints invisible\n",
    "# mlab.points3d(frame_x, frame_y, frame_z, opacity=0)\n",
    "mlab.points3d(frame_x, frame_y, frame_z, opacity=1)\n"
   ]
  },
  {
   "cell_type": "code",
   "execution_count": 108,
   "metadata": {},
   "outputs": [],
   "source": [
    "\n",
    "VISUAL_SCALE_FACTOR = 3"
   ]
  },
  {
   "cell_type": "code",
   "execution_count": 106,
   "metadata": {},
   "outputs": [
    {
     "name": "stdout",
     "output_type": "stream",
     "text": [
      "[5.99084316 5.99084316 0.28222013]\n"
     ]
    }
   ],
   "source": [
    "earth_obj = mlab.points3d(0,0,0, color = (1,0,0))\n",
    "\n",
    "sat_init_pos = data[0] * VISUAL_SCALE_FACTOR\n",
    "\n",
    "sat_obj = mlab.points3d(\n",
    "        sat_init_pos[0],\n",
    "        sat_init_pos[1],\n",
    "        sat_init_pos[2],\n",
    "        color = (0.5, 0.5, 0.5)\n",
    "    )\n",
    "\n",
    "print(sat_init_pos)\n",
    "\n",
    "sat_traj = mlab.plot3d(\n",
    "    sat_init_pos[0],\n",
    "    sat_init_pos[1],\n",
    "    sat_init_pos[2],\n",
    ")\n",
    "\n"
   ]
  },
  {
   "cell_type": "code",
   "execution_count": 107,
   "metadata": {},
   "outputs": [],
   "source": [
    "# Lets once try mlab animate decorator...\n",
    "# If it doesn't work, do with save_fig and delay and all\n",
    "# @mlab.animate\n",
    "\n",
    "# Not using decorator here, as I need inputs to this function...\n",
    "num_frames_interest = 150\n",
    "\n",
    "def anim(moving_obj, data, num_frames = 50, obj_traj = None, pics_folder_name = None):\n",
    "\n",
    "    # decorator not working... Animation stops in between\n",
    "    # Now again,it doesn't stop\n",
    "\n",
    "    delay = 100\n",
    "\n",
    "    # @mlab.animate(delay = 100)\n",
    "\n",
    "    for i in range(num_frames):\n",
    "        moving_obj.mlab_source.x = data[i][0] * VISUAL_SCALE_FACTOR  \n",
    "        moving_obj.mlab_source.y = data[i][1] * VISUAL_SCALE_FACTOR \n",
    "        moving_obj.mlab_source.z = data[i][2] * VISUAL_SCALE_FACTOR \n",
    "\n",
    "        # Trajectory is not working, bodies just dont animate ...\n",
    "\n",
    "        if obj_traj is not None:\n",
    "            obj_traj.mlab_source.reset(\n",
    "                x = data[:i+1, 0] * VISUAL_SCALE_FACTOR,\n",
    "                y = data[:i+1, 1] * VISUAL_SCALE_FACTOR,\n",
    "                z = data[:i+1, 2] * VISUAL_SCALE_FACTOR\n",
    "            )\n",
    "\n",
    "        # Uncomment below line, if using decorator\n",
    "        # yield\n",
    "        # uncomment below lines, if not using decorator\n",
    "        mlab.process_ui_events()\n",
    "        # This savefig is a cruel trick to re-create the image or smthing like that\n",
    "        if pics_folder_name is None:\n",
    "            mlab.savefig(f'./pics/anim_{i}.png')\n",
    "        else:\n",
    "            mlab.savefig(f'/{pics_folder_name}/anim_{i}.png')\n",
    "\n",
    "        # time.sleep(delay/1000)\n",
    "\n",
    "\n",
    "anim(sat_obj, data, num_frames=num_frames_interest, obj_traj=sat_traj )\n"
   ]
  },
  {
   "attachments": {},
   "cell_type": "markdown",
   "metadata": {},
   "source": [
    "# Obtained good animation results! Creates a folder with pic names for the same"
   ]
  }
 ],
 "metadata": {
  "kernelspec": {
   "display_name": "Python 3",
   "language": "python",
   "name": "python3"
  },
  "language_info": {
   "codemirror_mode": {
    "name": "ipython",
    "version": 3
   },
   "file_extension": ".py",
   "mimetype": "text/x-python",
   "name": "python",
   "nbconvert_exporter": "python",
   "pygments_lexer": "ipython3",
   "version": "3.9.6"
  },
  "orig_nbformat": 4
 },
 "nbformat": 4,
 "nbformat_minor": 2
}
