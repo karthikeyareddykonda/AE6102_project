{
 "cells": [
  {
   "cell_type": "code",
   "execution_count": 1,
   "metadata": {},
   "outputs": [],
   "source": [
    "%gui qt\n",
    "from mayavi import mlab\n",
    "import numpy as np\n",
    "import time\n",
    "import os\n"
   ]
  },
  {
   "cell_type": "code",
   "execution_count": null,
   "metadata": {},
   "outputs": [],
   "source": []
  },
  {
   "cell_type": "code",
   "execution_count": null,
   "metadata": {},
   "outputs": [],
   "source": [
    "# for testing\n",
    "mlab.test_contour3d_anim()"
   ]
  },
  {
   "cell_type": "code",
   "execution_count": 2,
   "metadata": {},
   "outputs": [],
   "source": [
    "DATA_SET = \"data_multi_1\""
   ]
  },
  {
   "attachments": {},
   "cell_type": "markdown",
   "metadata": {},
   "source": [
    "Now, the numpy array is num_frames x 3 x number of satellites"
   ]
  },
  {
   "cell_type": "code",
   "execution_count": 3,
   "metadata": {},
   "outputs": [
    {
     "name": "stdout",
     "output_type": "stream",
     "text": [
      "(525600, 3)\n",
      "(525600, 3)\n",
      "(525600, 3)\n"
     ]
    }
   ],
   "source": [
    "# Tmp code to mix all three bodies\n",
    "data0 = data = np.load(f\"data/data_0.npy\")\n",
    "data1 = data = np.load(f\"data/data_1.npy\")\n",
    "data2 = data = np.load(f\"data/data_2.npy\")\n",
    "\n",
    "print(data0.shape)\n",
    "print(data1.shape)\n",
    "print(data2.shape)"
   ]
  },
  {
   "cell_type": "code",
   "execution_count": 4,
   "metadata": {},
   "outputs": [
    {
     "name": "stdout",
     "output_type": "stream",
     "text": [
      "(525600, 3, 3)\n",
      "[[[1.9986187  1.9986187  1.9986187 ]\n",
      "  [0.05256051 0.06437321 0.07433178]\n",
      "  [0.         0.         0.        ]]\n",
      "\n",
      " [[1.99585561 1.99585633 1.99585704]\n",
      "  [0.10508468 0.12870195 0.14861223]\n",
      "  [0.         0.         0.        ]]\n",
      "\n",
      " [[1.99171123 1.99171552 1.9917198 ]\n",
      "  [0.15753612 0.19294179 0.22279025]\n",
      "  [0.         0.         0.        ]]\n",
      "\n",
      " [[1.98618699 1.98620128 1.98621549]\n",
      "  [0.20987842 0.25704858 0.29681535]\n",
      "  [0.         0.         0.        ]]\n",
      "\n",
      " [[1.97928531 1.97932093 1.97935627]\n",
      "  [0.26207517 0.32097858 0.37063798]\n",
      "  [0.         0.         0.        ]]\n",
      "\n",
      " [[1.97100955 1.97108413 1.97115783]\n",
      "  [0.31408998 0.38468861 0.44420984]\n",
      "  [0.         0.         0.        ]]\n",
      "\n",
      " [[1.96136406 1.96150275 1.96163921]\n",
      "  [0.36588652 0.44813622 0.51748419]\n",
      "  [0.         0.         0.        ]]\n",
      "\n",
      " [[1.95035415 1.95059083 1.95082256]\n",
      "  [0.41742852 0.51127985 0.59041611]\n",
      "  [0.         0.         0.        ]]\n",
      "\n",
      " [[1.9379861  1.93836451 1.93873293]\n",
      "  [0.46867985 0.57407895 0.66296277]\n",
      "  [0.         0.         0.        ]]\n",
      "\n",
      " [[1.92426716 1.92484188 1.92539801]\n",
      "  [0.51960448 0.63649413 0.73508359]\n",
      "  [0.         0.         0.        ]]]\n"
     ]
    }
   ],
   "source": [
    "\n",
    "# DATA_SCALE_FACTOR = radius_earth\n",
    "DATA_SCALE_FACTOR = 6.378e6\n",
    "\n",
    "# Lets divide everything by R, to get intution\n",
    "new_shape = list(data0.shape)\n",
    "new_shape.append(3)\n",
    "\n",
    "data = np.empty(shape = new_shape)\n",
    "\n",
    "data[:, : , 0] = data0\n",
    "data[:, : , 1] = data1\n",
    "data[:, : , 2] = data2\n",
    "data = data/DATA_SCALE_FACTOR\n",
    "\n",
    "\n",
    "print(data.shape)\n",
    "print(data[:10])"
   ]
  },
  {
   "cell_type": "code",
   "execution_count": 5,
   "metadata": {},
   "outputs": [
    {
     "data": {
      "text/plain": [
       "<mayavi.modules.glyph.Glyph at 0x221f8491090>"
      ]
     },
     "execution_count": 5,
     "metadata": {},
     "output_type": "execute_result"
    }
   ],
   "source": [
    "# Frame of reference setup\n",
    "frame_x, frame_y, frame_z = np.mgrid[-10: 10: 2j,-10: 10: 2j,-10: 10: 2j]\n",
    "\n",
    "mlab.clf()\n",
    "\n",
    "# Uncomment the below line to make endpoints invisible\n",
    "# mlab.points3d(frame_x, frame_y, frame_z, opacity=0)\n",
    "mlab.points3d(frame_x, frame_y, frame_z, opacity=0.0)\n"
   ]
  },
  {
   "cell_type": "code",
   "execution_count": 6,
   "metadata": {},
   "outputs": [],
   "source": [
    "\n",
    "# So as to get spatial visualization in mayavi\n",
    "VISUAL_SCALE_FACTOR = 3"
   ]
  },
  {
   "cell_type": "code",
   "execution_count": 10,
   "metadata": {},
   "outputs": [
    {
     "name": "stdout",
     "output_type": "stream",
     "text": [
      "[5.99585609 5.99585609 5.99585609]\n",
      "[0.15768153 0.19311964 0.22299535]\n",
      "[0. 0. 0.]\n",
      "[<mayavi.modules.surface.Surface object at 0x0000022180807950>, <mayavi.modules.surface.Surface object at 0x0000022199A704F0>, <mayavi.modules.surface.Surface object at 0x0000022199A6A860>]\n"
     ]
    }
   ],
   "source": [
    "earth_obj = mlab.points3d(0,0,0, color = (1,0,0))\n",
    "\n",
    "\n",
    "sat_init_pos = data[0] * VISUAL_SCALE_FACTOR\n",
    "# size is 3 * num_satellites\n",
    "print((sat_init_pos[0]))\n",
    "print(sat_init_pos[1])\n",
    "print(sat_init_pos[2])\n",
    "\n",
    "sat_objs = mlab.points3d(\n",
    "        sat_init_pos[0],\n",
    "        sat_init_pos[1],\n",
    "        sat_init_pos[2],\n",
    "        # color = (0.5, 0.5, 0.5)\n",
    "        scale_factor = 1\n",
    "    )\n",
    "    \n",
    "\n",
    "# print(sat_init_pos)\n",
    "\n",
    "\n",
    "sat_trajs =[\n",
    "    mlab.plot3d(\n",
    "        sat_init_pos[0, i],\n",
    "        sat_init_pos[1, i],\n",
    "        sat_init_pos[2, i],\n",
    "    )\n",
    "\n",
    "    for i in range(data.shape[2])\n",
    "\n",
    "]\n",
    "print(sat_trajs)\n"
   ]
  },
  {
   "cell_type": "code",
   "execution_count": 8,
   "metadata": {},
   "outputs": [],
   "source": [
    "# Lets once try mlab animate decorator...\n",
    "# If it doesn't work, do with save_fig and delay and all\n",
    "# @mlab.animate\n",
    "\n",
    "# Not using decorator here, as I need inputs to this function...\n",
    "\n",
    "def anim(moving_obj, data, num_frames = 50, obj_trajs = None, pics_folder_name = None):\n",
    "\n",
    "    # decorator not working... Animation stops in between\n",
    "    # Now again,it doesn't stop\n",
    "\n",
    "    delay = 100\n",
    "\n",
    "    # @mlab.animate(delay = 100)\n",
    "\n",
    "    if not os.path.exists(pics_folder_name):\n",
    "                os.makedirs(pics_folder_name)\n",
    "    if pics_folder_name is None:\n",
    "         pics_folder_name = \"pics\"\n",
    "\n",
    "    for i in range(num_frames):\n",
    "        moving_obj.mlab_source.x = data[i][0] * VISUAL_SCALE_FACTOR  \n",
    "        moving_obj.mlab_source.y = data[i][1] * VISUAL_SCALE_FACTOR \n",
    "        moving_obj.mlab_source.z = data[i][2] * VISUAL_SCALE_FACTOR \n",
    "\n",
    "        # Trajectory is not working, bodies just dont animate ...\n",
    "\n",
    "        if obj_trajs is not None:\n",
    "            for traj_idx, obj_traj in enumerate(obj_trajs):\n",
    "                obj_traj.mlab_source.reset(\n",
    "                    x = data[:i+1, 0, traj_idx] * VISUAL_SCALE_FACTOR,\n",
    "                    y = data[:i+1, 1, traj_idx] * VISUAL_SCALE_FACTOR,\n",
    "                    z = data[:i+1, 2, traj_idx] * VISUAL_SCALE_FACTOR\n",
    "                )\n",
    "\n",
    "        # Uncomment below line, if using decorator\n",
    "        # yield\n",
    "        # uncomment below lines, if not using decorator\n",
    "        mlab.process_ui_events()\n",
    "        # This savefig is a cruel trick to re-create the image or smthing like that\n",
    "        mlab.savefig('./{}/anim_{:03}.png'.format(pics_folder_name, i))\n",
    "\n",
    "        # time.sleep(delay/1000)\n",
    "\n"
   ]
  },
  {
   "cell_type": "code",
   "execution_count": 9,
   "metadata": {},
   "outputs": [],
   "source": [
    "num_frames_interest = 200\n",
    "\n",
    "\n",
    "anim(sat_objs, data, \n",
    "     num_frames = num_frames_interest, \n",
    "     obj_trajs = sat_trajs,\n",
    "     pics_folder_name =  f\"pics/{DATA_SET}/\"\n",
    "       )\n"
   ]
  },
  {
   "attachments": {},
   "cell_type": "markdown",
   "metadata": {},
   "source": [
    "# Obtained good animation results! Creates a folder with pic names for the same"
   ]
  }
 ],
 "metadata": {
  "kernelspec": {
   "display_name": "Python 3",
   "language": "python",
   "name": "python3"
  },
  "language_info": {
   "codemirror_mode": {
    "name": "ipython",
    "version": 3
   },
   "file_extension": ".py",
   "mimetype": "text/x-python",
   "name": "python",
   "nbconvert_exporter": "python",
   "pygments_lexer": "ipython3",
   "version": "3.9.6"
  },
  "orig_nbformat": 4
 },
 "nbformat": 4,
 "nbformat_minor": 2
}
