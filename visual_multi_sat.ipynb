{
 "cells": [
  {
   "cell_type": "code",
   "execution_count": 11,
   "metadata": {},
   "outputs": [],
   "source": [
    "%gui qt\n",
    "from mayavi import mlab\n",
    "import numpy as np\n",
    "import time\n",
    "import os\n"
   ]
  },
  {
   "cell_type": "code",
   "execution_count": null,
   "metadata": {},
   "outputs": [],
   "source": []
  },
  {
   "cell_type": "code",
   "execution_count": 12,
   "metadata": {},
   "outputs": [
    {
     "data": {
      "text/plain": [
       "<mayavi.tools.animator.Animator at 0x22180931270>"
      ]
     },
     "execution_count": 12,
     "metadata": {},
     "output_type": "execute_result"
    }
   ],
   "source": [
    "# for testing\n",
    "mlab.test_contour3d_anim()"
   ]
  },
  {
   "cell_type": "code",
   "execution_count": 25,
   "metadata": {},
   "outputs": [],
   "source": [
    "DATA_SET = \"data_multi_2\"\n"
   ]
  },
  {
   "cell_type": "code",
   "execution_count": null,
   "metadata": {},
   "outputs": [],
   "source": []
  },
  {
   "attachments": {},
   "cell_type": "markdown",
   "metadata": {},
   "source": [
    "Now, the numpy array is num_frames x 3 x number of satellites"
   ]
  },
  {
   "cell_type": "code",
   "execution_count": 14,
   "metadata": {},
   "outputs": [
    {
     "name": "stdout",
     "output_type": "stream",
     "text": [
      "(525600, 3)\n",
      "(525600, 3)\n",
      "(525600, 3)\n"
     ]
    }
   ],
   "source": [
    "# # Tmp code to mix all three bodies\n",
    "# data0 = data = np.load(f\"data/data_0.npy\")\n",
    "# data1 = data = np.load(f\"data/data_1.npy\")\n",
    "# data2 = data = np.load(f\"data/data_2.npy\")\n",
    "\n",
    "# print(data0.shape)\n",
    "# print(data1.shape)\n",
    "# print(data2.shape)"
   ]
  },
  {
   "cell_type": "code",
   "execution_count": null,
   "metadata": {},
   "outputs": [],
   "source": []
  },
  {
   "cell_type": "code",
   "execution_count": 26,
   "metadata": {},
   "outputs": [
    {
     "name": "stdout",
     "output_type": "stream",
     "text": [
      "(525600, 3, 2)\n",
      "[[[-1.10490974 -1.09189444]\n",
      "  [ 1.16406394  1.37920929]\n",
      "  [ 1.3131193   1.02106045]]\n",
      "\n",
      " [[-1.1534507  -1.15574597]\n",
      "  [ 1.20302208  1.37829771]\n",
      "  [ 1.35197449  1.02039622]]\n",
      "\n",
      " [[-1.20130704 -1.21888054]\n",
      "  [ 1.24125893  1.37648051]\n",
      "  [ 1.39001604  1.01906155]]\n",
      "\n",
      " [[-1.24851858 -1.28129308]\n",
      "  [ 1.27882328  1.37380224]\n",
      "  [ 1.42730182  1.0170894 ]]\n",
      "\n",
      " [[-1.29512116 -1.3429806 ]\n",
      "  [ 1.31575842  1.37030522]\n",
      "  [ 1.46388298  1.01451109]]\n",
      "\n",
      " [[-1.34114722 -1.40394194]\n",
      "  [ 1.35210304  1.36602958]\n",
      "  [ 1.49980506  1.01135634]]\n",
      "\n",
      " [[-1.3866262  -1.46417749]\n",
      "  [ 1.38789187  1.36101338]\n",
      "  [ 1.53510878  1.00765332]]\n",
      "\n",
      " [[-1.43158499 -1.52368902]\n",
      "  [ 1.42315625  1.35529272]\n",
      "  [ 1.56983076  1.00342873]]\n",
      "\n",
      " [[-1.47604816 -1.58247946]\n",
      "  [ 1.45792456  1.34890177]\n",
      "  [ 1.60400406  0.99870789]]\n",
      "\n",
      " [[-1.52003831 -1.64055277]\n",
      "  [ 1.49222264  1.34187295]\n",
      "  [ 1.63765866  0.99351477]]]\n"
     ]
    }
   ],
   "source": [
    "\n",
    "# DATA_SCALE_FACTOR = radius_earth\n",
    "DATA_SCALE_FACTOR = 6.378e6\n",
    "\n",
    "# Lets divide everything by R, to get intution\n",
    "# new_shape = list(data0.shape)\n",
    "# new_shape.append(3)\n",
    "\n",
    "data = np.load(f\"data/{DATA_SET}.npy\")\n",
    "\n",
    "# data[:, : , 0] = data0\n",
    "# data[:, : , 1] = data1\n",
    "# data[:, : , 2] = data2\n",
    "data = data/DATA_SCALE_FACTOR\n",
    "\n",
    "\n",
    "print(data.shape)\n",
    "print(data[:10])"
   ]
  },
  {
   "cell_type": "code",
   "execution_count": 27,
   "metadata": {},
   "outputs": [
    {
     "data": {
      "text/plain": [
       "<mayavi.modules.glyph.Glyph at 0x22199aa8db0>"
      ]
     },
     "execution_count": 27,
     "metadata": {},
     "output_type": "execute_result"
    }
   ],
   "source": [
    "# Frame of reference setup\n",
    "frame_x, frame_y, frame_z = np.mgrid[-10: 10: 2j,-10: 10: 2j,-10: 10: 2j]\n",
    "\n",
    "mlab.clf()\n",
    "\n",
    "# Uncomment the below line to make endpoints invisible\n",
    "# mlab.points3d(frame_x, frame_y, frame_z, opacity=0)\n",
    "mlab.points3d(frame_x, frame_y, frame_z, opacity=0.0)\n"
   ]
  },
  {
   "cell_type": "code",
   "execution_count": 28,
   "metadata": {},
   "outputs": [],
   "source": [
    "\n",
    "# So as to get spatial visualization in mayavi\n",
    "VISUAL_SCALE_FACTOR = 3"
   ]
  },
  {
   "cell_type": "code",
   "execution_count": 29,
   "metadata": {},
   "outputs": [
    {
     "name": "stdout",
     "output_type": "stream",
     "text": [
      "[-3.31472923 -3.27568332]\n",
      "[3.49219183 4.13762787]\n",
      "[3.93935789 3.06318134]\n",
      "[<mayavi.modules.surface.Surface object at 0x0000022199B27360>, <mayavi.modules.surface.Surface object at 0x0000022199B27040>]\n"
     ]
    }
   ],
   "source": [
    "earth_obj = mlab.points3d(0,0,0, color = (1,0,0))\n",
    "\n",
    "\n",
    "sat_init_pos = data[0] * VISUAL_SCALE_FACTOR\n",
    "# size is 3 * num_satellites\n",
    "print((sat_init_pos[0]))\n",
    "print(sat_init_pos[1])\n",
    "print(sat_init_pos[2])\n",
    "\n",
    "sat_objs = mlab.points3d(\n",
    "        sat_init_pos[0],\n",
    "        sat_init_pos[1],\n",
    "        sat_init_pos[2],\n",
    "        # color = (0.5, 0.5, 0.5)\n",
    "        scale_factor = 1\n",
    "    )\n",
    "    \n",
    "\n",
    "# print(sat_init_pos)\n",
    "\n",
    "\n",
    "sat_trajs =[\n",
    "    mlab.plot3d(\n",
    "        sat_init_pos[0, i],\n",
    "        sat_init_pos[1, i],\n",
    "        sat_init_pos[2, i],\n",
    "    )\n",
    "\n",
    "    for i in range(data.shape[2])\n",
    "\n",
    "]\n",
    "print(sat_trajs)\n"
   ]
  },
  {
   "cell_type": "code",
   "execution_count": 30,
   "metadata": {},
   "outputs": [],
   "source": [
    "# Lets once try mlab animate decorator...\n",
    "# If it doesn't work, do with save_fig and delay and all\n",
    "# @mlab.animate\n",
    "\n",
    "# Not using decorator here, as I need inputs to this function...\n",
    "\n",
    "def anim(moving_obj, data, num_frames = 50, obj_trajs = None, pics_folder_name = None):\n",
    "\n",
    "    # decorator not working... Animation stops in between\n",
    "    # Now again,it doesn't stop\n",
    "\n",
    "    delay = 100\n",
    "\n",
    "    # @mlab.animate(delay = 100)\n",
    "\n",
    "    if not os.path.exists(pics_folder_name):\n",
    "                os.makedirs(pics_folder_name)\n",
    "    if pics_folder_name is None:\n",
    "         pics_folder_name = \"pics\"\n",
    "\n",
    "    for i in range(num_frames):\n",
    "        moving_obj.mlab_source.x = data[i][0] * VISUAL_SCALE_FACTOR  \n",
    "        moving_obj.mlab_source.y = data[i][1] * VISUAL_SCALE_FACTOR \n",
    "        moving_obj.mlab_source.z = data[i][2] * VISUAL_SCALE_FACTOR \n",
    "\n",
    "        # Trajectory is not working, bodies just dont animate ...\n",
    "\n",
    "        if obj_trajs is not None:\n",
    "            for traj_idx, obj_traj in enumerate(obj_trajs):\n",
    "                obj_traj.mlab_source.reset(\n",
    "                    x = data[:i+1, 0, traj_idx] * VISUAL_SCALE_FACTOR,\n",
    "                    y = data[:i+1, 1, traj_idx] * VISUAL_SCALE_FACTOR,\n",
    "                    z = data[:i+1, 2, traj_idx] * VISUAL_SCALE_FACTOR\n",
    "                )\n",
    "\n",
    "        # Uncomment below line, if using decorator\n",
    "        # yield\n",
    "        # uncomment below lines, if not using decorator\n",
    "        mlab.process_ui_events()\n",
    "        # This savefig is a cruel trick to re-create the image or smthing like that\n",
    "        mlab.savefig('./{}/anim_{:03}.png'.format(pics_folder_name, i))\n",
    "\n",
    "        # time.sleep(delay/1000)\n",
    "\n"
   ]
  },
  {
   "cell_type": "code",
   "execution_count": 31,
   "metadata": {},
   "outputs": [],
   "source": [
    "num_frames_interest = 200\n",
    "\n",
    "\n",
    "anim(sat_objs, data, \n",
    "     num_frames = num_frames_interest, \n",
    "     obj_trajs = sat_trajs,\n",
    "     pics_folder_name =  f\"pics/{DATA_SET}/\"\n",
    "       )\n"
   ]
  },
  {
   "attachments": {},
   "cell_type": "markdown",
   "metadata": {},
   "source": [
    "# Obtained good animation results! Creates a folder with pic names for the same"
   ]
  }
 ],
 "metadata": {
  "kernelspec": {
   "display_name": "Python 3",
   "language": "python",
   "name": "python3"
  },
  "language_info": {
   "codemirror_mode": {
    "name": "ipython",
    "version": 3
   },
   "file_extension": ".py",
   "mimetype": "text/x-python",
   "name": "python",
   "nbconvert_exporter": "python",
   "pygments_lexer": "ipython3",
   "version": "3.9.6"
  },
  "orig_nbformat": 4
 },
 "nbformat": 4,
 "nbformat_minor": 2
}
