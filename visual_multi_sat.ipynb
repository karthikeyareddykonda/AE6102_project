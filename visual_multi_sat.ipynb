{
 "cells": [
  {
   "cell_type": "code",
   "execution_count": 9,
   "metadata": {},
   "outputs": [],
   "source": [
    "%gui qt\n",
    "from mayavi import mlab\n",
    "import numpy as np\n",
    "import time\n",
    "import os\n"
   ]
  },
  {
   "cell_type": "code",
   "execution_count": null,
   "metadata": {},
   "outputs": [],
   "source": []
  },
  {
   "cell_type": "code",
   "execution_count": 10,
   "metadata": {},
   "outputs": [
    {
     "data": {
      "text/plain": [
       "<mayavi.tools.animator.Animator at 0x1117057bf40>"
      ]
     },
     "execution_count": 10,
     "metadata": {},
     "output_type": "execute_result"
    }
   ],
   "source": [
    "# for testing\n",
    "mlab.test_contour3d_anim()"
   ]
  },
  {
   "cell_type": "code",
   "execution_count": 11,
   "metadata": {},
   "outputs": [],
   "source": [
    "DATA_SET = \"data_multi_beauty\"\n"
   ]
  },
  {
   "cell_type": "code",
   "execution_count": null,
   "metadata": {},
   "outputs": [],
   "source": []
  },
  {
   "attachments": {},
   "cell_type": "markdown",
   "metadata": {},
   "source": [
    "Now, the numpy array is num_frames x 3 x number of satellites"
   ]
  },
  {
   "cell_type": "code",
   "execution_count": 12,
   "metadata": {},
   "outputs": [],
   "source": [
    "# # Tmp code to mix all three bodies\n",
    "# data0 = data = np.load(f\"data/data_0.npy\")\n",
    "# data1 = data = np.load(f\"data/data_1.npy\")\n",
    "# data2 = data = np.load(f\"data/data_2.npy\")\n",
    "\n",
    "# print(data0.shape)\n",
    "# print(data1.shape)\n",
    "# print(data2.shape)"
   ]
  },
  {
   "cell_type": "code",
   "execution_count": null,
   "metadata": {},
   "outputs": [],
   "source": []
  },
  {
   "cell_type": "code",
   "execution_count": 13,
   "metadata": {},
   "outputs": [
    {
     "name": "stdout",
     "output_type": "stream",
     "text": [
      "(72000, 3, 10)\n",
      "[[[-1.90772024 -0.43841035 -1.59968766 -1.92195951 -1.77302791\n",
      "   -1.22017964 -1.84711099  1.55155392  1.94670026 -1.48556459]\n",
      "  [-0.6005027  -1.95135757 -1.20041634 -0.55323743  0.92540371\n",
      "   -1.58466452  0.76692958 -1.26201444 -0.4586481   1.33906603]\n",
      "  [ 0.05256051  0.05256051  0.05256051  0.05256051  0.05256051\n",
      "    0.05256051  0.05256051  0.05256051  0.05256051  0.05256051]]\n",
      "\n",
      " [[-1.90640267 -0.43810756 -1.59858283 -1.9206321  -1.77180337\n",
      "   -1.21933693 -1.84583528  1.55048233  1.94535577 -1.48453858]\n",
      "  [-0.60008796 -1.95000986 -1.19958727 -0.55285533  0.92476458\n",
      "   -1.58357007  0.7663999  -1.26114282 -0.45833134  1.33814121]\n",
      "  [ 0.10512102  0.10512102  0.10512102  0.10512102  0.10512102\n",
      "    0.10512102  0.10512102  0.10512102  0.10512102  0.10512102]]\n",
      "\n",
      " [[-1.90376889 -0.4375023  -1.59637432 -1.91797867 -1.76935554\n",
      "   -1.21765236 -1.84328518  1.54834028  1.94266818 -1.48248763]\n",
      "  [-0.59925891 -1.94731584 -1.19792999 -0.55209154  0.92348698\n",
      "   -1.5813823   0.76534109 -1.2594005  -0.45769813  1.33629251]\n",
      "  [ 0.15764526  0.15764526  0.15764526  0.15764526  0.15764526\n",
      "    0.15764526  0.15764526  0.15764526  0.15764526  0.15764526]]\n",
      "\n",
      " [[-1.89982118 -0.43659508 -1.59306403 -1.91400149 -1.76568655\n",
      "   -1.2151274  -1.83946289  1.54512959  1.9386398  -1.4794135 ]\n",
      "  [-0.59801627 -1.94327782 -1.19544593 -0.55094671  0.92157201\n",
      "   -1.57810309  0.76375405 -1.25678897 -0.45674904  1.33352153]\n",
      "  [ 0.21009706  0.21009706  0.21009706  0.21009706  0.21009706\n",
      "    0.21009706  0.21009706  0.21009706  0.21009706  0.21009706]]\n",
      "\n",
      " [[-1.89456271 -0.43538664 -1.58865462 -1.90870377 -1.76079935\n",
      "   -1.21176407 -1.83437148  1.54085286  1.93327389 -1.47531866]\n",
      "  [-0.59636104 -1.93789907 -1.19213708 -0.54942175  0.91902121\n",
      "   -1.5737351   0.76164007 -1.25331033 -0.45548481  1.32983051]\n",
      "  [ 0.26244031  0.26244031  0.26244031  0.26244031  0.26244031\n",
      "    0.26244031  0.26244031  0.26244031  0.26244031  0.26244031]]\n",
      "\n",
      " [[-1.88799755 -0.43387791 -1.58314952 -1.90208961 -1.75469772\n",
      "   -1.207565   -1.82801491  1.53551341  1.92657459 -1.4702063 ]\n",
      "  [-0.59429449 -1.93118375 -1.18800601 -0.54751786  0.91583656\n",
      "   -1.5682817   0.75900079 -1.24896729 -0.45390644  1.3252223 ]\n",
      "  [ 0.31463906  0.31463906  0.31463906  0.31463906  0.31463906\n",
      "    0.31463906  0.31463906  0.31463906  0.31463906  0.31463906]]\n",
      "\n",
      " [[-1.8801307  -0.43207004 -1.5765529  -1.89416404 -1.7473863\n",
      "   -1.20253335 -1.82039799  1.52911528  1.918547   -1.46408029]\n",
      "  [-0.5918182  -1.92313695 -1.18305587 -0.54523648  0.91202048\n",
      "   -1.56174703  0.75583821 -1.24376313 -0.45201512  1.3197004 ]\n",
      "  [ 0.3666575   0.3666575   0.3666575   0.3666575   0.3666575\n",
      "    0.3666575   0.3666575   0.3666575   0.3666575   0.3666575 ]]\n",
      "\n",
      " [[-1.87096804 -0.42996438 -1.5688697  -1.88493299 -1.73887055\n",
      "   -1.1966729  -1.81152643  1.52166326  1.90919711 -1.45694521]\n",
      "  [-0.58893402 -1.91376469 -1.17729034 -0.54257932  0.90757582\n",
      "   -1.55413598  0.7521547  -1.23770175 -0.44981226  1.31326895]\n",
      "  [ 0.41845998  0.41845998  0.41845998  0.41845998  0.41845998\n",
      "    0.41845998  0.41845998  0.41845998  0.41845998  0.41845998]]\n",
      "\n",
      " [[-1.86051633 -0.42756249 -1.56010559 -1.87440327 -1.72915678\n",
      "   -1.18998798 -1.80140678  1.51316285  1.89853185 -1.44880634]\n",
      "  [-0.58564409 -1.90307392 -1.17071369 -0.53954833  0.90250587\n",
      "   -1.54545418  0.74795297 -1.23078763 -0.44729949  1.30593269]\n",
      "  [ 0.47001108  0.47001108  0.47001108  0.47001108  0.47001108\n",
      "    0.47001108  0.47001108  0.47001108  0.47001108  0.47001108]]\n",
      "\n",
      " [[-1.84878325 -0.42486613 -1.55026701 -1.86258261 -1.7182521\n",
      "   -1.18248349 -1.79004646  1.50362031  1.88655903 -1.43966965]\n",
      "  [-0.58195081 -1.89107245 -1.16333076 -0.53614574  0.89681435\n",
      "   -1.53570799  0.74323611 -1.22302584 -0.44447866  1.29769701]\n",
      "  [ 0.52127559  0.52127559  0.52127559  0.52127559  0.52127559\n",
      "    0.52127559  0.52127559  0.52127559  0.52127559  0.52127559]]]\n"
     ]
    }
   ],
   "source": [
    "\n",
    "# DATA_SCALE_FACTOR = radius_earth\n",
    "DATA_SCALE_FACTOR = 6.378e6\n",
    "\n",
    "# Lets divide everything by R, to get intution\n",
    "# new_shape = list(data0.shape)\n",
    "# new_shape.append(3)\n",
    "\n",
    "data = np.load(f\"data/{DATA_SET}.npy\")\n",
    "\n",
    "# data[:, : , 0] = data0\n",
    "# data[:, : , 1] = data1\n",
    "# data[:, : , 2] = data2\n",
    "data = data/DATA_SCALE_FACTOR\n",
    "\n",
    "\n",
    "print(data.shape)\n",
    "print(data[:10])"
   ]
  },
  {
   "cell_type": "code",
   "execution_count": 14,
   "metadata": {},
   "outputs": [
    {
     "data": {
      "text/plain": [
       "<mayavi.modules.glyph.Glyph at 0x1110b8f0950>"
      ]
     },
     "execution_count": 14,
     "metadata": {},
     "output_type": "execute_result"
    }
   ],
   "source": [
    "# Frame of reference setup\n",
    "frame_x, frame_y, frame_z = np.mgrid[-10: 10: 2j,-10: 10: 2j,-10: 10: 2j]\n",
    "\n",
    "mlab.clf()\n",
    "\n",
    "# Uncomment the below line to make endpoints invisible\n",
    "# mlab.points3d(frame_x, frame_y, frame_z, opacity=0)\n",
    "mlab.points3d(frame_x, frame_y, frame_z, opacity=0.0)\n"
   ]
  },
  {
   "cell_type": "code",
   "execution_count": 15,
   "metadata": {},
   "outputs": [],
   "source": [
    "\n",
    "# So as to get spatial visualization in mayavi\n",
    "VISUAL_SCALE_FACTOR = 3"
   ]
  },
  {
   "cell_type": "code",
   "execution_count": 16,
   "metadata": {},
   "outputs": [
    {
     "name": "stdout",
     "output_type": "stream",
     "text": [
      "[-5.72316072 -1.31523106 -4.79906298 -5.76587852 -5.31908373 -3.66053893\n",
      " -5.54133297  4.65466175  5.84010079 -4.45669377]\n",
      "[-1.8015081  -5.85407271 -3.60124903 -1.65971228  2.77621113 -4.75399355\n",
      "  2.30078875 -3.78604331 -1.37594431  4.0171981 ]\n",
      "[0.15768153 0.15768153 0.15768153 0.15768153 0.15768153 0.15768153\n",
      " 0.15768153 0.15768153 0.15768153 0.15768153]\n",
      "[<mayavi.modules.surface.Surface object at 0x000001117160DC70>, <mayavi.modules.surface.Surface object at 0x0000011171F50630>, <mayavi.modules.surface.Surface object at 0x000001110BB42B30>, <mayavi.modules.surface.Surface object at 0x000001110BB7E680>, <mayavi.modules.surface.Surface object at 0x000001110BBB81D0>, <mayavi.modules.surface.Surface object at 0x000001110BBEDD60>, <mayavi.modules.surface.Surface object at 0x000001110BBCC9A0>, <mayavi.modules.surface.Surface object at 0x000001110BC5ACC0>, <mayavi.modules.surface.Surface object at 0x000001110BC94810>, <mayavi.modules.surface.Surface object at 0x000001110BCD0400>]\n"
     ]
    }
   ],
   "source": [
    "earth_obj = mlab.points3d(0,0,0, color = (1,0,0))\n",
    "\n",
    "\n",
    "sat_init_pos = data[0] * VISUAL_SCALE_FACTOR\n",
    "# size is 3 * num_satellites\n",
    "print((sat_init_pos[0]))\n",
    "print(sat_init_pos[1])\n",
    "print(sat_init_pos[2])\n",
    "\n",
    "sat_objs = mlab.points3d(\n",
    "        sat_init_pos[0],\n",
    "        sat_init_pos[1],\n",
    "        sat_init_pos[2],\n",
    "        # color = (0.5, 0.5, 0.5)\n",
    "        scale_factor = 1\n",
    "    )\n",
    "    \n",
    "\n",
    "# print(sat_init_pos)\n",
    "\n",
    "\n",
    "sat_trajs =[\n",
    "    mlab.plot3d(\n",
    "        sat_init_pos[0, i],\n",
    "        sat_init_pos[1, i],\n",
    "        sat_init_pos[2, i],\n",
    "    )\n",
    "\n",
    "    for i in range(data.shape[2])\n",
    "\n",
    "]\n",
    "print(sat_trajs)\n"
   ]
  },
  {
   "cell_type": "code",
   "execution_count": 17,
   "metadata": {},
   "outputs": [],
   "source": [
    "# Lets once try mlab animate decorator...\n",
    "# If it doesn't work, do with save_fig and delay and all\n",
    "# @mlab.animate\n",
    "\n",
    "# Not using decorator here, as I need inputs to this function...\n",
    "\n",
    "def anim(moving_obj, data, num_frames = 50, obj_trajs = None, pics_folder_name = None):\n",
    "\n",
    "    # decorator not working... Animation stops in between\n",
    "    # Now again,it doesn't stop\n",
    "\n",
    "    delay = 100\n",
    "\n",
    "    # @mlab.animate(delay = 100)\n",
    "\n",
    "    if not os.path.exists(pics_folder_name):\n",
    "                os.makedirs(pics_folder_name)\n",
    "    if pics_folder_name is None:\n",
    "         pics_folder_name = \"pics\"\n",
    "\n",
    "    for i in range(num_frames):\n",
    "        moving_obj.mlab_source.x = data[i][0] * VISUAL_SCALE_FACTOR  \n",
    "        moving_obj.mlab_source.y = data[i][1] * VISUAL_SCALE_FACTOR \n",
    "        moving_obj.mlab_source.z = data[i][2] * VISUAL_SCALE_FACTOR \n",
    "\n",
    "        # Trajectory is not working, bodies just dont animate ...\n",
    "\n",
    "        if obj_trajs is not None:\n",
    "            for traj_idx, obj_traj in enumerate(obj_trajs):\n",
    "                obj_traj.mlab_source.reset(\n",
    "                    x = data[:i+1, 0, traj_idx] * VISUAL_SCALE_FACTOR,\n",
    "                    y = data[:i+1, 1, traj_idx] * VISUAL_SCALE_FACTOR,\n",
    "                    z = data[:i+1, 2, traj_idx] * VISUAL_SCALE_FACTOR\n",
    "                )\n",
    "\n",
    "        # Uncomment below line, if using decorator\n",
    "        # yield\n",
    "        # uncomment below lines, if not using decorator\n",
    "        mlab.process_ui_events()\n",
    "        # This savefig is a cruel trick to re-create the image or smthing like that\n",
    "        mlab.savefig('./{}/anim_{:03}.png'.format(pics_folder_name, i))\n",
    "\n",
    "        # time.sleep(delay/1000)\n",
    "\n"
   ]
  },
  {
   "cell_type": "code",
   "execution_count": 18,
   "metadata": {},
   "outputs": [],
   "source": [
    "num_frames_interest = 200\n",
    "\n",
    "\n",
    "anim(sat_objs, data, \n",
    "     num_frames = num_frames_interest, \n",
    "     obj_trajs = sat_trajs,\n",
    "     pics_folder_name =  f\"pics/{DATA_SET}/\"\n",
    "       )\n"
   ]
  },
  {
   "attachments": {},
   "cell_type": "markdown",
   "metadata": {},
   "source": [
    "# Obtained good animation results! Creates a folder with pic names for the same"
   ]
  }
 ],
 "metadata": {
  "kernelspec": {
   "display_name": "Python 3",
   "language": "python",
   "name": "python3"
  },
  "language_info": {
   "codemirror_mode": {
    "name": "ipython",
    "version": 3
   },
   "file_extension": ".py",
   "mimetype": "text/x-python",
   "name": "python",
   "nbconvert_exporter": "python",
   "pygments_lexer": "ipython3",
   "version": "3.9.6"
  },
  "orig_nbformat": 4
 },
 "nbformat": 4,
 "nbformat_minor": 2
}
